{
  "cells": [
    {
      "cell_type": "code",
      "execution_count": null,
      "id": "04c3816a-cc22-4f43-b9db-ed3fce4c9b6f",
      "metadata": {
        "id": "04c3816a-cc22-4f43-b9db-ed3fce4c9b6f",
        "outputId": "952dd4b6-b3f8-4bb5-d50a-9c0b614026ca"
      },
      "outputs": [
        {
          "name": "stdout",
          "output_type": "stream",
          "text": [
            "Hello Azure\n"
          ]
        }
      ],
      "source": [
        "print('Hello Azure')"
      ]
    },
    {
      "cell_type": "code",
      "execution_count": null,
      "id": "b5e968f2-181e-40ea-aeef-711b90215765",
      "metadata": {
        "id": "b5e968f2-181e-40ea-aeef-711b90215765"
      },
      "outputs": [],
      "source": [
        "import os\n",
        "import tensorflow as tf\n",
        "from tensorflow import keras\n",
        "\n",
        "from tensorflow.keras import layers\n",
        "from tensorflow.keras import models"
      ]
    },
    {
      "cell_type": "code",
      "execution_count": null,
      "id": "6af6cc7c-018d-43c5-adfa-4e9f5d9fbe78",
      "metadata": {
        "id": "6af6cc7c-018d-43c5-adfa-4e9f5d9fbe78"
      },
      "outputs": [],
      "source": [
        "model = models.Sequential() # 순차적 네트워크\n",
        "model.add(layers.Conv2D(32, (3,3), activation='relu', input_shape=(28,28,1))) # 3x3 이미지로 뽑겠다\n",
        "model.add(layers.MaxPooling2D(2,2))\n",
        "model.add(layers.Conv2D(64, (3,3), activation='relu'))\n",
        "model.add(layers.MaxPooling2D(2,2))\n",
        "model.add(layers.Conv2D(64, (3,3), activation='relu'))"
      ]
    },
    {
      "cell_type": "code",
      "execution_count": null,
      "id": "7b984665-52b4-4175-8450-efeee0d29786",
      "metadata": {
        "id": "7b984665-52b4-4175-8450-efeee0d29786",
        "outputId": "e1012dbc-d8d1-4e71-907a-dd7da9f7bf81"
      },
      "outputs": [
        {
          "name": "stdout",
          "output_type": "stream",
          "text": [
            "Model: \"sequential\"\n",
            "_________________________________________________________________\n",
            "Layer (type)                 Output Shape              Param #   \n",
            "=================================================================\n",
            "conv2d (Conv2D)              (None, 26, 26, 32)        320       \n",
            "_________________________________________________________________\n",
            "max_pooling2d (MaxPooling2D) (None, 13, 13, 32)        0         \n",
            "_________________________________________________________________\n",
            "conv2d_1 (Conv2D)            (None, 11, 11, 64)        18496     \n",
            "_________________________________________________________________\n",
            "max_pooling2d_1 (MaxPooling2 (None, 5, 5, 64)          0         \n",
            "_________________________________________________________________\n",
            "conv2d_2 (Conv2D)            (None, 3, 3, 64)          36928     \n",
            "=================================================================\n",
            "Total params: 55,744\n",
            "Trainable params: 55,744\n",
            "Non-trainable params: 0\n",
            "_________________________________________________________________\n"
          ]
        }
      ],
      "source": [
        "model.summary()"
      ]
    },
    {
      "cell_type": "code",
      "execution_count": null,
      "id": "e78b9b6c-4514-43ea-a148-035362da558d",
      "metadata": {
        "id": "e78b9b6c-4514-43ea-a148-035362da558d"
      },
      "outputs": [],
      "source": [
        "model.add(layers.Flatten()) # 이미지 일자로 펴주기\n",
        "model.add(layers.Dense(64, activation='relu')) # 판단\n",
        "model.add(layers.Dense(10, activation='softmax')) # 0~9까지 결과. 다중분류 문제."
      ]
    },
    {
      "cell_type": "code",
      "execution_count": null,
      "id": "49deb90e-df5c-4c4a-9e00-f712ed8c6b7b",
      "metadata": {
        "id": "49deb90e-df5c-4c4a-9e00-f712ed8c6b7b",
        "outputId": "51a7fb0f-cd1b-4f3d-8491-2fdc82b26075"
      },
      "outputs": [
        {
          "name": "stdout",
          "output_type": "stream",
          "text": [
            "Model: \"sequential\"\n",
            "_________________________________________________________________\n",
            "Layer (type)                 Output Shape              Param #   \n",
            "=================================================================\n",
            "conv2d (Conv2D)              (None, 26, 26, 32)        320       \n",
            "_________________________________________________________________\n",
            "max_pooling2d (MaxPooling2D) (None, 13, 13, 32)        0         \n",
            "_________________________________________________________________\n",
            "conv2d_1 (Conv2D)            (None, 11, 11, 64)        18496     \n",
            "_________________________________________________________________\n",
            "max_pooling2d_1 (MaxPooling2 (None, 5, 5, 64)          0         \n",
            "_________________________________________________________________\n",
            "conv2d_2 (Conv2D)            (None, 3, 3, 64)          36928     \n",
            "_________________________________________________________________\n",
            "flatten (Flatten)            (None, 576)               0         \n",
            "_________________________________________________________________\n",
            "dense (Dense)                (None, 64)                36928     \n",
            "_________________________________________________________________\n",
            "dense_1 (Dense)              (None, 10)                650       \n",
            "=================================================================\n",
            "Total params: 93,322\n",
            "Trainable params: 93,322\n",
            "Non-trainable params: 0\n",
            "_________________________________________________________________\n"
          ]
        }
      ],
      "source": [
        "model.summary()"
      ]
    },
    {
      "cell_type": "code",
      "execution_count": null,
      "id": "0fc1ac19-30d1-471f-a13f-5b8952637b9a",
      "metadata": {
        "id": "0fc1ac19-30d1-471f-a13f-5b8952637b9a",
        "outputId": "aa90394c-b497-49d5-e4cc-b318e4e1f486"
      },
      "outputs": [
        {
          "name": "stdout",
          "output_type": "stream",
          "text": [
            "Downloading data from https://storage.googleapis.com/tensorflow/tf-keras-datasets/mnist.npz\n",
            "11493376/11490434 [==============================] - 0s 0us/step\n"
          ]
        }
      ],
      "source": [
        "from tensorflow.keras.datasets import mnist\n",
        "from tensorflow.keras.utils import to_categorical\n",
        "\n",
        "(train_images, train_labels),(test_images, test_labels) = mnist.load_data()\n",
        "\n",
        "train_images = train_images.reshape((60000,28,28,1)) # 이미지는 기본 3차원. 모양을 바꿔줘야한다. 28:픽셀 1:흑백(차원1개)\n",
        "train_images = train_images.astype('float32') #데이터 타입 변환\n",
        "test_images = test_images.reshape((10000,28,28,1))\n",
        "test_images = test_images.astype('float32')\n",
        "\n",
        "train_labels = to_categorical(train_labels) # 이 데이터들은 라벨이다.\n",
        "test_labels = to_categorical(test_labels)"
      ]
    },
    {
      "cell_type": "code",
      "execution_count": null,
      "id": "7bd876cb-329f-4328-ba19-bc9202ca4b9a",
      "metadata": {
        "id": "7bd876cb-329f-4328-ba19-bc9202ca4b9a",
        "outputId": "a5107d60-e568-400f-8f4e-70fbcf1d4126"
      },
      "outputs": [
        {
          "name": "stdout",
          "output_type": "stream",
          "text": [
            "Epoch 1/5\n",
            "938/938 [==============================] - 55s 58ms/step - loss: 0.3116 - accuracy: 0.9370\n",
            "Epoch 2/5\n",
            "938/938 [==============================] - 52s 56ms/step - loss: 0.0645 - accuracy: 0.9815\n",
            "Epoch 3/5\n",
            "938/938 [==============================] - 53s 56ms/step - loss: 0.0480 - accuracy: 0.9862\n",
            "Epoch 4/5\n",
            "938/938 [==============================] - 52s 55ms/step - loss: 0.0399 - accuracy: 0.9896\n",
            "Epoch 5/5\n",
            "938/938 [==============================] - 53s 57ms/step - loss: 0.0354 - accuracy: 0.9912\n"
          ]
        },
        {
          "data": {
            "text/plain": [
              "<tensorflow.python.keras.callbacks.History at 0x124cb3da8e0>"
            ]
          },
          "execution_count": 13,
          "metadata": {},
          "output_type": "execute_result"
        }
      ],
      "source": [
        "# 실제 사용 위해선 컴파일해줘야 한다.\n",
        "model.compile(optimizer='rmsprop',\n",
        "             loss='categorical_crossentropy',\n",
        "             metrics=['accuracy'])\n",
        "# 모델 학습\n",
        "model.fit(train_images, train_labels, epochs=5, batch_size=64)"
      ]
    },
    {
      "cell_type": "code",
      "execution_count": null,
      "id": "3f3abff3-21ef-4ec2-ad4e-8d064d705af8",
      "metadata": {
        "id": "3f3abff3-21ef-4ec2-ad4e-8d064d705af8",
        "outputId": "be43fe52-a45a-4ad2-d98a-86a7a5f059ea"
      },
      "outputs": [
        {
          "name": "stdout",
          "output_type": "stream",
          "text": [
            "313/313 [==============================] - 3s 8ms/step - loss: 0.0545 - accuracy: 0.9839\n"
          ]
        }
      ],
      "source": [
        "# 결과가 얼마나 정확한지 평가\n",
        "test_loss, test_acc = model.evaluate(test_images, test_labels)"
      ]
    },
    {
      "cell_type": "code",
      "execution_count": null,
      "id": "05ebbd80-b6cd-4808-9d81-a1dcfb4afb56",
      "metadata": {
        "id": "05ebbd80-b6cd-4808-9d81-a1dcfb4afb56",
        "outputId": "00f2dc11-89fe-497f-ece6-daa544c8fd5f"
      },
      "outputs": [
        {
          "data": {
            "text/plain": [
              "0.9839000105857849"
            ]
          },
          "execution_count": 15,
          "metadata": {},
          "output_type": "execute_result"
        }
      ],
      "source": [
        "test_acc"
      ]
    },
    {
      "cell_type": "code",
      "execution_count": null,
      "id": "325180a2-c728-4a95-bcb3-37d8cceeefc8",
      "metadata": {
        "id": "325180a2-c728-4a95-bcb3-37d8cceeefc8"
      },
      "outputs": [],
      "source": []
    }
  ],
  "metadata": {
    "kernelspec": {
      "display_name": "Python 3.8 - AzureML",
      "language": "python",
      "name": "azureml_py38"
    },
    "language_info": {
      "codemirror_mode": {
        "name": "ipython",
        "version": 3
      },
      "file_extension": ".py",
      "mimetype": "text/x-python",
      "name": "python",
      "nbconvert_exporter": "python",
      "pygments_lexer": "ipython3",
      "version": "3.8.5"
    },
    "colab": {
      "provenance": []
    }
  },
  "nbformat": 4,
  "nbformat_minor": 5
}